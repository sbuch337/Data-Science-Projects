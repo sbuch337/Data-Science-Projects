{
 "cells": [
  {
   "cell_type": "markdown",
   "metadata": {},
   "source": [
    "# Your Name: Stephanie Buchanan"
   ]
  },
  {
   "cell_type": "markdown",
   "metadata": {},
   "source": [
    "# import all packages "
   ]
  },
  {
   "cell_type": "code",
   "execution_count": 1,
   "metadata": {},
   "outputs": [],
   "source": [
    "#import packages\n",
    "import pandas as pd\n",
    "import numpy as np\n",
    "import matplotlib.pyplot as plt\n",
    "import seaborn as sns\n",
    "from sklearn.model_selection import train_test_split, GridSearchCV\n",
    "from sklearn.preprocessing import (OneHotEncoder, LabelEncoder, \n",
    "                                   StandardScaler, MinMaxScaler, RobustScaler)\n",
    "from sklearn.linear_model import LogisticRegression\n",
    "from sklearn.metrics import confusion_matrix, classification_report, accuracy_score, roc_curve\n",
    "import statsmodels.api as sm\n",
    "from sklearn.cluster import KMeans\n",
    "import scipy.cluster.hierarchy as sch\n",
    "from sklearn.decomposition import PCA\n",
    "from mpl_toolkits import mplot3d"
   ]
  },
  {
   "cell_type": "markdown",
   "metadata": {},
   "source": [
    "# Data Prepocessing"
   ]
  },
  {
   "cell_type": "markdown",
   "metadata": {},
   "source": [
    "Description\n",
    "\n",
    "The data are gathered from end of semester student evaluations for 463 courses taught by a sample of 94 professors from the University of Texas at Austin. In addition, six students rate the professors' physical appearance. The result is a data frame where each row contains a different course and each column has information on the course and the professor who taught that course. Usage\n",
    "\n",
    "evals\n",
    "\n",
    "Format\n",
    "\n",
    "A data frame with 463 observations on the following 23 variables.\n",
    "\n",
    "course_id\n",
    "\n",
    "Variable identifying the course (out of 463 courses).\n",
    "\n",
    "prof_id\n",
    "\n",
    "Variable identifying the professor who taught the course (out of 94 professors).\n",
    "\n",
    "score\n",
    "\n",
    "Average professor evaluation score: (1) very unsatisfactory - (5) excellent.\n",
    "\n",
    "rank\n",
    "\n",
    "Rank of professor: teaching, tenure track, tenured.\n",
    "\n",
    "ethnicity\n",
    "\n",
    "Ethnicity of professor: not minority, minority.\n",
    "\n",
    "gender\n",
    "\n",
    "Gender of professor: female, male.\n",
    "\n",
    "language\n",
    "\n",
    "Language of school where professor received education: English or non-English.\n",
    "\n",
    "age\n",
    "\n",
    "Age of professor.\n",
    "\n",
    "cls_perc_eval\n",
    "\n",
    "Percent of students in class who completed evaluation.\n",
    "\n",
    "cls_did_eval\n",
    "\n",
    "Number of students in class who completed evaluation.\n",
    "\n",
    "cls_students\n",
    "\n",
    "Total number of students in class.\n",
    "\n",
    "cls_level\n",
    "\n",
    "Class level: lower, upper.\n",
    "\n",
    "cls_profs\n",
    "\n",
    "Number of professors teaching sections in course in sample: single, multiple.\n",
    "\n",
    "cls_credits\n",
    "\n",
    "Number of credits of class: one credit (lab, PE, etc.), multi credit.\n",
    "\n",
    "bty_f1lower\n",
    "\n",
    "Beauty rating of professor from lower level female: (1) lowest - (10) highest.\n",
    "\n",
    "bty_f1upper\n",
    "\n",
    "Beauty rating of professor from upper level female: (1) lowest - (10) highest.\n",
    "\n",
    "bty_f2upper\n",
    "\n",
    "Beauty rating of professor from second level female: (1) lowest - (10) highest.\n",
    "\n",
    "bty_m1lower\n",
    "\n",
    "Beauty rating of professor from lower level male: (1) lowest - (10) highest.\n",
    "\n",
    "bty_m1upper\n",
    "\n",
    "Beauty rating of professor from upper level male: (1) lowest - (10) highest.\n",
    "\n",
    "bty_m2upper\n",
    "\n",
    "Beauty rating of professor from second upper level male: (1) lowest - (10) highest.\n",
    "\n",
    "bty_avg\n",
    "\n",
    "Average beauty rating of professor.\n",
    "\n",
    "pic_outfit\n",
    "\n",
    "Outfit of professor in picture: not formal, formal.\n",
    "\n",
    "pic_color\n",
    "\n",
    "Color of professor's picture: color, black & white.\n",
    "\n",
    "Source\n",
    "\n",
    "Daniel S. Hamermesh, Amy Parker, Beauty in the classroom: instructors’ pulchritude and putative pedagogical productivity, Economics of Education Review, Volume 24, Issue 4, 2005. doi: 10.1016/j.econedurev.2004.07.013."
   ]
  },
  {
   "cell_type": "code",
   "execution_count": 2,
   "metadata": {},
   "outputs": [
    {
     "data": {
      "text/html": [
       "<div>\n",
       "<style scoped>\n",
       "    .dataframe tbody tr th:only-of-type {\n",
       "        vertical-align: middle;\n",
       "    }\n",
       "\n",
       "    .dataframe tbody tr th {\n",
       "        vertical-align: top;\n",
       "    }\n",
       "\n",
       "    .dataframe thead th {\n",
       "        text-align: right;\n",
       "    }\n",
       "</style>\n",
       "<table border=\"1\" class=\"dataframe\">\n",
       "  <thead>\n",
       "    <tr style=\"text-align: right;\">\n",
       "      <th></th>\n",
       "      <th>score</th>\n",
       "      <th>rank</th>\n",
       "      <th>ethnicity</th>\n",
       "      <th>gender</th>\n",
       "      <th>age</th>\n",
       "      <th>bty_avg</th>\n",
       "    </tr>\n",
       "  </thead>\n",
       "  <tbody>\n",
       "    <tr>\n",
       "      <th>1</th>\n",
       "      <td>4.7</td>\n",
       "      <td>tenure track</td>\n",
       "      <td>minority</td>\n",
       "      <td>female</td>\n",
       "      <td>36</td>\n",
       "      <td>5.0</td>\n",
       "    </tr>\n",
       "    <tr>\n",
       "      <th>2</th>\n",
       "      <td>4.1</td>\n",
       "      <td>tenure track</td>\n",
       "      <td>minority</td>\n",
       "      <td>female</td>\n",
       "      <td>36</td>\n",
       "      <td>5.0</td>\n",
       "    </tr>\n",
       "    <tr>\n",
       "      <th>3</th>\n",
       "      <td>3.9</td>\n",
       "      <td>tenure track</td>\n",
       "      <td>minority</td>\n",
       "      <td>female</td>\n",
       "      <td>36</td>\n",
       "      <td>5.0</td>\n",
       "    </tr>\n",
       "    <tr>\n",
       "      <th>4</th>\n",
       "      <td>4.8</td>\n",
       "      <td>tenure track</td>\n",
       "      <td>minority</td>\n",
       "      <td>female</td>\n",
       "      <td>36</td>\n",
       "      <td>5.0</td>\n",
       "    </tr>\n",
       "    <tr>\n",
       "      <th>5</th>\n",
       "      <td>4.6</td>\n",
       "      <td>tenured</td>\n",
       "      <td>not minority</td>\n",
       "      <td>male</td>\n",
       "      <td>59</td>\n",
       "      <td>3.0</td>\n",
       "    </tr>\n",
       "  </tbody>\n",
       "</table>\n",
       "</div>"
      ],
      "text/plain": [
       "   score          rank     ethnicity  gender  age  bty_avg\n",
       "1    4.7  tenure track      minority  female   36      5.0\n",
       "2    4.1  tenure track      minority  female   36      5.0\n",
       "3    3.9  tenure track      minority  female   36      5.0\n",
       "4    4.8  tenure track      minority  female   36      5.0\n",
       "5    4.6       tenured  not minority    male   59      3.0"
      ]
     },
     "execution_count": 2,
     "metadata": {},
     "output_type": "execute_result"
    }
   ],
   "source": [
    "evals_df = pd.read_csv('evals.csv', index_col= 0)\n",
    "evals_df.drop(['course_id', 'prof_id','language','cls_perc_eval','cls_did_eval', 'cls_credits',\n",
    "               'bty_f1lower', 'bty_f1upper', 'bty_f2upper', 'bty_m1lower',\n",
    "               'bty_m1upper', 'bty_m2upper', 'cls_students', 'pic_outfit', 'cls_profs',\n",
    "              'cls_level', 'pic_color'], axis = 1, inplace = True)\n",
    "evals_df.head()"
   ]
  },
  {
   "cell_type": "code",
   "execution_count": 3,
   "metadata": {},
   "outputs": [
    {
     "data": {
      "text/plain": [
       "Index(['score', 'rank', 'ethnicity', 'gender', 'age', 'bty_avg'], dtype='object')"
      ]
     },
     "execution_count": 3,
     "metadata": {},
     "output_type": "execute_result"
    }
   ],
   "source": [
    "evals_df.columns"
   ]
  },
  {
   "cell_type": "code",
   "execution_count": 4,
   "metadata": {},
   "outputs": [
    {
     "data": {
      "text/plain": [
       "score        0\n",
       "rank         0\n",
       "ethnicity    0\n",
       "gender       0\n",
       "age          0\n",
       "bty_avg      0\n",
       "dtype: int64"
      ]
     },
     "execution_count": 4,
     "metadata": {},
     "output_type": "execute_result"
    }
   ],
   "source": [
    "evals_df.isnull().sum()"
   ]
  },
  {
   "cell_type": "code",
   "execution_count": 5,
   "metadata": {},
   "outputs": [
    {
     "data": {
      "text/html": [
       "<div>\n",
       "<style scoped>\n",
       "    .dataframe tbody tr th:only-of-type {\n",
       "        vertical-align: middle;\n",
       "    }\n",
       "\n",
       "    .dataframe tbody tr th {\n",
       "        vertical-align: top;\n",
       "    }\n",
       "\n",
       "    .dataframe thead th {\n",
       "        text-align: right;\n",
       "    }\n",
       "</style>\n",
       "<table border=\"1\" class=\"dataframe\">\n",
       "  <thead>\n",
       "    <tr style=\"text-align: right;\">\n",
       "      <th></th>\n",
       "      <th>score</th>\n",
       "      <th>ethnicity</th>\n",
       "      <th>gender</th>\n",
       "      <th>age</th>\n",
       "      <th>bty_avg</th>\n",
       "    </tr>\n",
       "  </thead>\n",
       "  <tbody>\n",
       "    <tr>\n",
       "      <th>1</th>\n",
       "      <td>4.7</td>\n",
       "      <td>minority</td>\n",
       "      <td>female</td>\n",
       "      <td>36</td>\n",
       "      <td>5.0</td>\n",
       "    </tr>\n",
       "    <tr>\n",
       "      <th>2</th>\n",
       "      <td>4.1</td>\n",
       "      <td>minority</td>\n",
       "      <td>female</td>\n",
       "      <td>36</td>\n",
       "      <td>5.0</td>\n",
       "    </tr>\n",
       "    <tr>\n",
       "      <th>3</th>\n",
       "      <td>3.9</td>\n",
       "      <td>minority</td>\n",
       "      <td>female</td>\n",
       "      <td>36</td>\n",
       "      <td>5.0</td>\n",
       "    </tr>\n",
       "    <tr>\n",
       "      <th>4</th>\n",
       "      <td>4.8</td>\n",
       "      <td>minority</td>\n",
       "      <td>female</td>\n",
       "      <td>36</td>\n",
       "      <td>5.0</td>\n",
       "    </tr>\n",
       "    <tr>\n",
       "      <th>5</th>\n",
       "      <td>4.6</td>\n",
       "      <td>not minority</td>\n",
       "      <td>male</td>\n",
       "      <td>59</td>\n",
       "      <td>3.0</td>\n",
       "    </tr>\n",
       "  </tbody>\n",
       "</table>\n",
       "</div>"
      ],
      "text/plain": [
       "   score     ethnicity  gender  age  bty_avg\n",
       "1    4.7      minority  female   36      5.0\n",
       "2    4.1      minority  female   36      5.0\n",
       "3    3.9      minority  female   36      5.0\n",
       "4    4.8      minority  female   36      5.0\n",
       "5    4.6  not minority    male   59      3.0"
      ]
     },
     "execution_count": 5,
     "metadata": {},
     "output_type": "execute_result"
    }
   ],
   "source": [
    "X_evals = evals_df.drop('rank', axis = 1).copy()\n",
    "y_evals = (evals_df['rank'] == 'tenured').astype(int)\n",
    "X_evals.head()"
   ]
  },
  {
   "cell_type": "code",
   "execution_count": 6,
   "metadata": {},
   "outputs": [
    {
     "data": {
      "text/html": [
       "<div>\n",
       "<style scoped>\n",
       "    .dataframe tbody tr th:only-of-type {\n",
       "        vertical-align: middle;\n",
       "    }\n",
       "\n",
       "    .dataframe tbody tr th {\n",
       "        vertical-align: top;\n",
       "    }\n",
       "\n",
       "    .dataframe thead th {\n",
       "        text-align: right;\n",
       "    }\n",
       "</style>\n",
       "<table border=\"1\" class=\"dataframe\">\n",
       "  <thead>\n",
       "    <tr style=\"text-align: right;\">\n",
       "      <th></th>\n",
       "      <th>score</th>\n",
       "      <th>ethnicity</th>\n",
       "      <th>gender</th>\n",
       "      <th>age</th>\n",
       "      <th>bty_avg</th>\n",
       "    </tr>\n",
       "  </thead>\n",
       "  <tbody>\n",
       "    <tr>\n",
       "      <th>1</th>\n",
       "      <td>4.7</td>\n",
       "      <td>0</td>\n",
       "      <td>0</td>\n",
       "      <td>36</td>\n",
       "      <td>5.0</td>\n",
       "    </tr>\n",
       "    <tr>\n",
       "      <th>2</th>\n",
       "      <td>4.1</td>\n",
       "      <td>0</td>\n",
       "      <td>0</td>\n",
       "      <td>36</td>\n",
       "      <td>5.0</td>\n",
       "    </tr>\n",
       "    <tr>\n",
       "      <th>3</th>\n",
       "      <td>3.9</td>\n",
       "      <td>0</td>\n",
       "      <td>0</td>\n",
       "      <td>36</td>\n",
       "      <td>5.0</td>\n",
       "    </tr>\n",
       "    <tr>\n",
       "      <th>4</th>\n",
       "      <td>4.8</td>\n",
       "      <td>0</td>\n",
       "      <td>0</td>\n",
       "      <td>36</td>\n",
       "      <td>5.0</td>\n",
       "    </tr>\n",
       "    <tr>\n",
       "      <th>5</th>\n",
       "      <td>4.6</td>\n",
       "      <td>1</td>\n",
       "      <td>1</td>\n",
       "      <td>59</td>\n",
       "      <td>3.0</td>\n",
       "    </tr>\n",
       "  </tbody>\n",
       "</table>\n",
       "</div>"
      ],
      "text/plain": [
       "   score  ethnicity  gender  age  bty_avg\n",
       "1    4.7          0       0   36      5.0\n",
       "2    4.1          0       0   36      5.0\n",
       "3    3.9          0       0   36      5.0\n",
       "4    4.8          0       0   36      5.0\n",
       "5    4.6          1       1   59      3.0"
      ]
     },
     "execution_count": 6,
     "metadata": {},
     "output_type": "execute_result"
    }
   ],
   "source": [
    "#change categorical data into numerical values\n",
    "#Note: Label Encoded due to the binary categorical values.  \n",
    "X_evals['ethnicity'] = LabelEncoder().fit_transform(X_evals['ethnicity'])\n",
    "X_evals['gender'] = LabelEncoder().fit_transform(X_evals['gender'])\n",
    "X_evals.head()"
   ]
  },
  {
   "cell_type": "markdown",
   "metadata": {},
   "source": [
    "# Model Building and Evaluation "
   ]
  },
  {
   "cell_type": "code",
   "execution_count": 7,
   "metadata": {},
   "outputs": [
    {
     "name": "stdout",
     "output_type": "stream",
     "text": [
      "Optimization terminated successfully.\n",
      "         Current function value: 0.584703\n",
      "         Iterations 5\n"
     ]
    }
   ],
   "source": [
    "# building the model and fitting the data\n",
    "endog = y_evals\n",
    "exog = sm.add_constant(X_evals)\n",
    "\n",
    "log_reg = sm.Logit(endog, exog).fit()"
   ]
  },
  {
   "cell_type": "code",
   "execution_count": 8,
   "metadata": {},
   "outputs": [
    {
     "name": "stdout",
     "output_type": "stream",
     "text": [
      "                         Results: Logit\n",
      "=================================================================\n",
      "Model:              Logit            Pseudo R-squared: 0.151     \n",
      "Dependent Variable: rank             AIC:              553.4347  \n",
      "Date:               2021-08-17 10:12 BIC:              578.2610  \n",
      "No. Observations:   463              Log-Likelihood:   -270.72   \n",
      "Df Model:           5                LL-Null:          -318.93   \n",
      "Df Residuals:       457              LLR p-value:      2.9999e-19\n",
      "Converged:          1.0000           Scale:            1.0000    \n",
      "No. Iterations:     5.0000                                       \n",
      "------------------------------------------------------------------\n",
      "               Coef.   Std.Err.     z     P>|z|    [0.025   0.975]\n",
      "------------------------------------------------------------------\n",
      "const         -2.9811    1.1024  -2.7041  0.0068  -5.1418  -0.8203\n",
      "score         -0.2860    0.2019  -1.4165  0.1566  -0.6817   0.1097\n",
      "ethnicity      0.4353    0.2930   1.4856  0.1374  -0.1390   1.0095\n",
      "gender         0.8222    0.2163   3.8004  0.0001   0.3982   1.2462\n",
      "age            0.0793    0.0123   6.4556  0.0000   0.0552   0.1034\n",
      "bty_avg       -0.0620    0.0722  -0.8585  0.3906  -0.2036   0.0796\n",
      "=================================================================\n",
      "\n"
     ]
    }
   ],
   "source": [
    "print(log_reg.summary2())"
   ]
  },
  {
   "cell_type": "code",
   "execution_count": 9,
   "metadata": {},
   "outputs": [
    {
     "data": {
      "text/plain": [
       "const       -2.981063\n",
       "score       -0.285975\n",
       "ethnicity    0.435258\n",
       "gender       0.822162\n",
       "age          0.079313\n",
       "bty_avg     -0.062018\n",
       "dtype: float64"
      ]
     },
     "execution_count": 9,
     "metadata": {},
     "output_type": "execute_result"
    }
   ],
   "source": [
    "coef = log_reg.params\n",
    "coef"
   ]
  },
  {
   "cell_type": "markdown",
   "metadata": {},
   "source": [
    "# Conclusion "
   ]
  },
  {
   "cell_type": "markdown",
   "metadata": {},
   "source": [
    "The intended purpose of the model is to predict the tenured status, i.e., tenured = 1, not-tenured = 0, of a professor based on the professors evaluation score given by students, the ethnicity,gender, age and average beauty score of the professor.  A logistic regression model was fit, and the coefficicents of the logistic regression model can be interpreted as follows: \n",
    "\n",
    "* The score coefficient is -0.893262, meaning that if every other variable is held constant and the evaulation score given by the students to the professor is increased by 1, the log odds would decrease by 0.893262, and therefore the odds of the professor being tenured would increase by exp(-0.893262) = 0.40932.\n",
    "\n",
    "* If the ethnicity goes from minority to not minority, the odds of the professor being tenured would increase by exp(0.513128) = 1.670508.\n",
    "* If gender goes from female to male, the odds of the professor being tenured would increase by exp(0.817215) = 2.264185.\n",
    "* If age is increased by 1, the odds of the professor being tenured would increase by exp(0.066788) = 1.06906881.\n",
    "* If the average beauty score the professor received is increased by 1, the odds of the professor being tenured would increase by exp(-0.038029) = 0.9626850. \n",
    "* The coefficient is -2.981063, which means when x1 = x2 = x3 = x4 = x5 = 0, the log of the odds of the professor being tenured is -2.981063, or exp(-2.981063) = 0.05073886976949831.  \n",
    "\n",
    "The model has a p value of 2.9999e-19 which is << 0.05 and is statistically significant.  Therefore, we reject the null hypothesis that all the coeffients are equal to 0.  Looking at the p-values for each individual attribute, P>|z|, the p-values > 0.05 are for the score, ethnicity and average beauty score features. Therefore, this is good reason to exclude these features from the logistic regression model. The pseudo R-squared value is 0.151, which is not particularly high, but should be compared to a model removing the features stated above. "
   ]
  },
  {
   "cell_type": "code",
   "execution_count": 10,
   "metadata": {},
   "outputs": [],
   "source": [
    "X_evals2 = X_evals.drop(['score', 'ethnicity', 'bty_avg'], axis = 1)"
   ]
  },
  {
   "cell_type": "code",
   "execution_count": 11,
   "metadata": {},
   "outputs": [
    {
     "name": "stdout",
     "output_type": "stream",
     "text": [
      "Optimization terminated successfully.\n",
      "         Current function value: 0.590134\n",
      "         Iterations 5\n"
     ]
    }
   ],
   "source": [
    "exog2 = sm.add_constant(X_evals2)\n",
    "\n",
    "log_reg2 = sm.Logit(endog, exog2).fit()"
   ]
  },
  {
   "cell_type": "code",
   "execution_count": 12,
   "metadata": {},
   "outputs": [
    {
     "name": "stdout",
     "output_type": "stream",
     "text": [
      "                         Results: Logit\n",
      "=================================================================\n",
      "Model:              Logit            Pseudo R-squared: 0.143     \n",
      "Dependent Variable: rank             AIC:              552.4640  \n",
      "Date:               2021-08-17 10:12 BIC:              564.8771  \n",
      "No. Observations:   463              Log-Likelihood:   -273.23   \n",
      "Df Model:           2                LL-Null:          -318.93   \n",
      "Df Residuals:       460              LLR p-value:      1.4279e-20\n",
      "Converged:          1.0000           Scale:            1.0000    \n",
      "No. Iterations:     5.0000                                       \n",
      "-------------------------------------------------------------------\n",
      "           Coef.    Std.Err.      z      P>|z|     [0.025    0.975]\n",
      "-------------------------------------------------------------------\n",
      "const     -4.3005     0.5725   -7.5114   0.0000   -5.4227   -3.1784\n",
      "gender     0.7940     0.2096    3.7872   0.0002    0.3831    1.2049\n",
      "age        0.0842     0.0119    7.0829   0.0000    0.0609    0.1075\n",
      "=================================================================\n",
      "\n"
     ]
    }
   ],
   "source": [
    "print(log_reg2.summary2())"
   ]
  },
  {
   "cell_type": "markdown",
   "metadata": {},
   "source": [
    "The pseudo R-squared value with the unnecessary features is lower than in the more complex model : 0.143 vs. 0.151.  But, the p-value is lower and the p-values of the individual features are all <<0.05, and the most important measure in logistic regression the p-value since this is what is used to measure statistical significance.  "
   ]
  }
 ],
 "metadata": {
  "kernelspec": {
   "display_name": "Python 3",
   "language": "python",
   "name": "python3"
  },
  "language_info": {
   "codemirror_mode": {
    "name": "ipython",
    "version": 3
   },
   "file_extension": ".py",
   "mimetype": "text/x-python",
   "name": "python",
   "nbconvert_exporter": "python",
   "pygments_lexer": "ipython3",
   "version": "3.8.8"
  }
 },
 "nbformat": 4,
 "nbformat_minor": 4
}
