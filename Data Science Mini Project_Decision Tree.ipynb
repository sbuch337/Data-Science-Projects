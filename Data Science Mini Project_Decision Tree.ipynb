{
 "cells": [
  {
   "cell_type": "markdown",
   "metadata": {},
   "source": [
    "# Your Name: Stephanie Buchanan"
   ]
  },
  {
   "cell_type": "markdown",
   "metadata": {},
   "source": [
    "# import all packages "
   ]
  },
  {
   "cell_type": "code",
   "execution_count": 2,
   "metadata": {},
   "outputs": [],
   "source": [
    "import pandas as pd\n",
    "import numpy as np\n",
    "import matplotlib.pyplot as plt\n",
    "import seaborn as sns\n",
    "from sklearn import tree\n",
    "from sklearn.preprocessing import MinMaxScaler\n",
    "from sklearn.model_selection import (train_test_split, GridSearchCV, \n",
    "                                     cross_val_score, validation_curve)\n",
    "from sklearn.tree import DecisionTreeClassifier\n",
    "from sklearn.metrics import (accuracy_score, zero_one_loss, classification_report, \n",
    "                             confusion_matrix, precision_score,recall_score, \n",
    "                             f1_score, plot_roc_curve, plot_confusion_matrix)\n",
    "from sklearn.ensemble import RandomForestClassifier"
   ]
  },
  {
   "cell_type": "markdown",
   "metadata": {},
   "source": [
    "# Data Prepocessing"
   ]
  },
  {
   "cell_type": "markdown",
   "metadata": {},
   "source": [
    "My research question is: Are decision trees and random forest good models for predicting whether to use the autolander or not based on stable positiong, sign or error, wind sign wind strength and visability?  The outcome variable is 'use' and all others are inputs."
   ]
  },
  {
   "cell_type": "code",
   "execution_count": 3,
   "metadata": {},
   "outputs": [
    {
     "name": "stdout",
     "output_type": "stream",
     "text": [
      "stability    object\n",
      "error        object\n",
      "sign         object\n",
      "wind         object\n",
      "magn         object\n",
      "vis          object\n",
      "use          object\n",
      "dtype: object\n",
      "stability    2\n",
      "error        4\n",
      "sign         2\n",
      "wind         2\n",
      "magn         4\n",
      "vis          2\n",
      "use          2\n",
      "dtype: int64\n"
     ]
    },
    {
     "data": {
      "text/plain": [
       "stability    0\n",
       "error        0\n",
       "sign         0\n",
       "wind         0\n",
       "magn         0\n",
       "vis          0\n",
       "use          0\n",
       "dtype: int64"
      ]
     },
     "execution_count": 3,
     "metadata": {},
     "output_type": "execute_result"
    }
   ],
   "source": [
    "#dataset\n",
    "shuttle = pd.read_csv('shuttle.csv', index_col= 0)\n",
    "print(shuttle.dtypes)\n",
    "print(shuttle.nunique())\n",
    "#check if any data missing\n",
    "shuttle.isnull().sum()"
   ]
  },
  {
   "cell_type": "markdown",
   "metadata": {},
   "source": [
    "# Data Splitting "
   ]
  },
  {
   "cell_type": "code",
   "execution_count": 4,
   "metadata": {},
   "outputs": [],
   "source": [
    "X_shuttle = pd.get_dummies(shuttle.drop(['use'], axis = 1))\n",
    "y_shuttle = (shuttle.use == 'auto').astype(int)\n",
    "\n",
    "X_shuttle_train, X_shuttle_test, y_shuttle_train, y_shuttle_test = train_test_split(X_shuttle, y_shuttle, \n",
    "                                                                                    test_size=0.30, \n",
    "                                                                                    random_state=42)"
   ]
  },
  {
   "cell_type": "markdown",
   "metadata": {},
   "source": [
    "# Model Building and Evaluation "
   ]
  },
  {
   "cell_type": "code",
   "execution_count": 5,
   "metadata": {},
   "outputs": [
    {
     "data": {
      "text/plain": [
       "GridSearchCV(cv=8, estimator=DecisionTreeClassifier(),\n",
       "             param_grid={'max_depth': range(1, 7),\n",
       "                         'max_features': [8, 10, 12, 14, 16]},\n",
       "             return_train_score=True, scoring='accuracy')"
      ]
     },
     "execution_count": 5,
     "metadata": {},
     "output_type": "execute_result"
    }
   ],
   "source": [
    "dtree_shuttle = tree.DecisionTreeClassifier()\n",
    "dtree_shuttle.fit(X_shuttle_train, y_shuttle_train)\n",
    "\n",
    "forest_shuttle = RandomForestClassifier()\n",
    "forest_shuttle.fit(X_shuttle_train, y_shuttle_train)\n",
    "\n",
    "#hyperparamter tuning for decision tree model\n",
    "param_grid_shuttle = {'max_depth':range(1,dtree_shuttle.tree_.max_depth), 'max_features': [8, 10, 12, 14, 16] }\n",
    "grid_search_shuttle = GridSearchCV(dtree_shuttle, param_grid_shuttle, cv=8, scoring='accuracy',return_train_score=True)\n",
    "\n",
    "grid_search_shuttle.fit(X_shuttle_test, y_shuttle_test)"
   ]
  },
  {
   "cell_type": "code",
   "execution_count": 7,
   "metadata": {},
   "outputs": [
    {
     "data": {
      "text/plain": [
       "GridSearchCV(cv=8, estimator=RandomForestClassifier(),\n",
       "             param_grid=[{'max_features': [8, 10, 12, 14, 16],\n",
       "                          'n_estimators': [3, 10, 30]},\n",
       "                         {'bootstrap': [False],\n",
       "                          'max_features': [8, 10, 12, 14, 16],\n",
       "                          'n_estimators': [3, 10]}],\n",
       "             return_train_score=True, scoring='accuracy')"
      ]
     },
     "execution_count": 7,
     "metadata": {},
     "output_type": "execute_result"
    }
   ],
   "source": [
    "param_grid_shuttle_for = [{'n_estimators':[3,10,30], 'max_features':[8, 10, 12, 14, 16]},\n",
    "                          {'bootstrap': [False], 'n_estimators':[3,10], 'max_features':[8, 10, 12, 14, 16]}]\n",
    "grid_search_shuttle_for = GridSearchCV(forest_shuttle, param_grid_shuttle_for, cv=8, scoring='accuracy',return_train_score=True)\n",
    "grid_search_shuttle_for.fit(X_shuttle_test, y_shuttle_test)"
   ]
  },
  {
   "cell_type": "code",
   "execution_count": 8,
   "metadata": {},
   "outputs": [],
   "source": [
    "best_dtree = grid_search_shuttle.best_estimator_\n",
    "best_forest = grid_search_shuttle_for.best_estimator_"
   ]
  },
  {
   "cell_type": "code",
   "execution_count": 9,
   "metadata": {},
   "outputs": [
    {
     "name": "stdout",
     "output_type": "stream",
     "text": [
      "best tree model accuracy on training set:  0.95531\n",
      "best tree model accuracy on test set:  0.98701\n"
     ]
    }
   ],
   "source": [
    "#accuracy for decision tree model\n",
    "best_dtree.fit(X_shuttle_train, y_shuttle_train)\n",
    "y_shuttle_train_pred = best_dtree.predict(X_shuttle_train)\n",
    "y_shuttle_test_pred = best_dtree.predict(X_shuttle_test)\n",
    "\n",
    "\n",
    "dt_accuracy_train = accuracy_score(y_shuttle_train, y_shuttle_train_pred)\n",
    "dt_accuracy_test = accuracy_score(y_shuttle_test, y_shuttle_test_pred)\n",
    "print('best tree model accuracy on training set: ', round(dt_accuracy_train, 5) )\n",
    "print('best tree model accuracy on test set: ', round(dt_accuracy_test,5))"
   ]
  },
  {
   "cell_type": "code",
   "execution_count": 10,
   "metadata": {},
   "outputs": [
    {
     "name": "stdout",
     "output_type": "stream",
     "text": [
      "best random forest model accuracy on training set:  1.0\n",
      "best random forest model accuracy on test set:  0.98701\n"
     ]
    }
   ],
   "source": [
    "#accuracy for random forest model\n",
    "best_forest.fit(X_shuttle_train, y_shuttle_train)\n",
    "y_shuttle_train_pred_for = best_forest.predict(X_shuttle_train)\n",
    "y_shuttle_test_pred_for = best_forest.predict(X_shuttle_test)\n",
    "\n",
    "\n",
    "for_accuracy_train = accuracy_score(y_shuttle_train, y_shuttle_train_pred_for)\n",
    "for_accuracy_test = accuracy_score(y_shuttle_test, y_shuttle_test_pred_for)\n",
    "print('best random forest model accuracy on training set: ', round(for_accuracy_train, 5) )\n",
    "print('best random forest model accuracy on test set: ', round(for_accuracy_test,5))"
   ]
  },
  {
   "cell_type": "markdown",
   "metadata": {},
   "source": [
    "# Conclusion "
   ]
  },
  {
   "cell_type": "markdown",
   "metadata": {},
   "source": [
    "Are decision trees and random forest good models for predicting whether to use the autolander or not based on stable positiong, sign or error, wind sign wind strength and visability?  The data was sourced from https://vincentarelbundock.github.io/Rdatasets/articles/data.html and contains 6 variables and one categorical outcome.  \n",
    "\n",
    "A decision tree and random forest model were fit to the training data after splitting into train/test.   Both models had acceptable accuracy on the train and test sets with the random forest model resulting in the higher accuracy, although overfitting may be present.\n",
    "\n",
    "There does not seem to be overfitting in the decision tree model as it have a 95.5% accuracy on the training set and 98.7% accuracy on the test set.  The accuracy of the random forest model is 100%, so this is an indication of overfitting.  The accuracy on the test set for the random forest is 98.7%, which is also high, so overfitting is not a big concern. The random forest model is the better model for classification for this dataset since it had the higher accuracy on the training set and the accuracy on the test set was the same for both the decision tree and random forest models.  "
   ]
  }
 ],
 "metadata": {
  "kernelspec": {
   "display_name": "Python 3",
   "language": "python",
   "name": "python3"
  },
  "language_info": {
   "codemirror_mode": {
    "name": "ipython",
    "version": 3
   },
   "file_extension": ".py",
   "mimetype": "text/x-python",
   "name": "python",
   "nbconvert_exporter": "python",
   "pygments_lexer": "ipython3",
   "version": "3.8.8"
  }
 },
 "nbformat": 4,
 "nbformat_minor": 4
}
