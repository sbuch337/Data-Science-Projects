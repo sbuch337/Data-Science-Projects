{
 "cells": [
  {
   "cell_type": "markdown",
   "metadata": {},
   "source": [
    "# Your Name: Stephanie Buchanan"
   ]
  },
  {
   "cell_type": "markdown",
   "metadata": {},
   "source": [
    "# import all packages "
   ]
  },
  {
   "cell_type": "code",
   "execution_count": 1,
   "metadata": {},
   "outputs": [],
   "source": [
    "import pandas as pd\n",
    "import numpy as np\n",
    "import matplotlib.pyplot as plt\n",
    "import seaborn as sns\n",
    "from sklearn.metrics import mean_squared_error, euclidean_distances\n",
    "from sklearn.neighbors import KNeighborsRegressor, KNeighborsClassifier\n",
    "from sklearn.pipeline import Pipeline\n",
    "from sklearn.preprocessing import StandardScaler, OneHotEncoder, MinMaxScaler\n",
    "from sklearn.model_selection import GridSearchCV, train_test_split\n",
    "from sklearn.ensemble import RandomForestRegressor,RandomForestClassifier\n",
    "from sklearn.compose import ColumnTransformer"
   ]
  },
  {
   "cell_type": "markdown",
   "metadata": {},
   "source": [
    "# Data Prepocessing"
   ]
  },
  {
   "cell_type": "code",
   "execution_count": 2,
   "metadata": {},
   "outputs": [
    {
     "name": "stdout",
     "output_type": "stream",
     "text": [
      "latitude      int64\n",
      "month        object\n",
      "tst           int64\n",
      "sza         float64\n",
      "dtype: object\n"
     ]
    },
    {
     "data": {
      "text/plain": [
       "latitude      0\n",
       "month         0\n",
       "tst           0\n",
       "sza         215\n",
       "dtype: int64"
      ]
     },
     "execution_count": 2,
     "metadata": {},
     "output_type": "execute_result"
    }
   ],
   "source": [
    "solar_angle = pd.read_csv('sza.csv', index_col= 0)\n",
    "print(solar_angle.dtypes)\n",
    "#check if any data missing\n",
    "solar_angle.isnull().sum()"
   ]
  },
  {
   "cell_type": "code",
   "execution_count": 3,
   "metadata": {},
   "outputs": [
    {
     "data": {
      "text/plain": [
       "latitude    0\n",
       "month       0\n",
       "tst         0\n",
       "sza         0\n",
       "dtype: int64"
      ]
     },
     "execution_count": 3,
     "metadata": {},
     "output_type": "execute_result"
    }
   ],
   "source": [
    "#drop missing data\n",
    "solar_angle.dropna(how='any', inplace=True)\n",
    "solar_angle.isnull().sum()"
   ]
  },
  {
   "cell_type": "code",
   "execution_count": 4,
   "metadata": {},
   "outputs": [],
   "source": [
    "X_solar_angle = pd.get_dummies(solar_angle.drop(['sza'], axis=1), columns= ['latitude'])\n",
    "y_solar_angle = solar_angle.sza"
   ]
  },
  {
   "cell_type": "code",
   "execution_count": 5,
   "metadata": {},
   "outputs": [],
   "source": [
    "X_solar_angle['month']= X_solar_angle['month'].replace(X_solar_angle['month'].unique(),list(range(1,13)))"
   ]
  },
  {
   "cell_type": "markdown",
   "metadata": {},
   "source": [
    "# Data Splitting "
   ]
  },
  {
   "cell_type": "code",
   "execution_count": 6,
   "metadata": {},
   "outputs": [
    {
     "name": "stdout",
     "output_type": "stream",
     "text": [
      "X_train shape:(450, 6)\n",
      "X_test shape:(151, 6)\n",
      "y_train shape:(450,)\n",
      "y_test shape:(151,)\n"
     ]
    }
   ],
   "source": [
    "X_sol_train, X_sol_test, y_sol_train, y_sol_test = train_test_split(X_solar_angle, y_solar_angle, \n",
    "                                                                                    test_size=0.25, \n",
    "                                                                                    random_state=42)\n",
    "print(f'X_train shape:{X_sol_train.shape:}')\n",
    "print(f'X_test shape:{X_sol_test.shape:}')\n",
    "print(f'y_train shape:{y_sol_train.shape:}')\n",
    "print(f'y_test shape:{y_sol_test.shape:}')"
   ]
  },
  {
   "cell_type": "markdown",
   "metadata": {},
   "source": [
    "# Model Building and Evaluation "
   ]
  },
  {
   "cell_type": "code",
   "execution_count": 7,
   "metadata": {},
   "outputs": [
    {
     "name": "stdout",
     "output_type": "stream",
     "text": [
      "Solar Angle Predicction with KNN, Test set MSE: 11.877\n"
     ]
    }
   ],
   "source": [
    "chain_sol = [('mm_scale', MinMaxScaler()), ('knn_reg', KNeighborsRegressor())]\n",
    "\n",
    "knn_pipe_sza = Pipeline(chain_sol)\n",
    "knn_pipe_sza = knn_pipe_sza.fit(X_sol_train, y_sol_train)\n",
    "y_sol_pred = knn_pipe_sza.predict(X_sol_test)\n",
    "print(f'Solar Angle Predicction with KNN, Test set MSE: {mean_squared_error(y_sol_test, y_sol_pred):.3f}')"
   ]
  },
  {
   "cell_type": "code",
   "execution_count": 9,
   "metadata": {},
   "outputs": [],
   "source": [
    "sol_param_grid = {'knn_reg__n_neighbors': range(1, 51) , \n",
    "                    'knn_reg__weights':['uniform', 'distance'],\n",
    "                    'knn_reg__metric': ['minkowski','euclidean', 'manhattan']}\n",
    "\n",
    "sol_grid_search = GridSearchCV(knn_pipe_sza, sol_param_grid)\n",
    "sol_grid_search.fit(X_sol_train, y_sol_train)\n",
    "best_knn_sza = sol_grid_search.best_estimator_\n",
    "y_best_test =  best_knn_sza.predict(X_sol_test)\n",
    "y_best_train =  best_knn_sza.predict(X_sol_train)"
   ]
  },
  {
   "cell_type": "code",
   "execution_count": 10,
   "metadata": {},
   "outputs": [
    {
     "name": "stdout",
     "output_type": "stream",
     "text": [
      "Solar Angle Prediction with best KNN, Train set MSE: 0.000\n",
      "Solar Angle Prediction with best KNN, Test set MSE: 9.485\n"
     ]
    }
   ],
   "source": [
    "print(f'Solar Angle Prediction with best KNN, Train set MSE: {mean_squared_error(y_sol_train, y_best_train):.3f}')\n",
    "print(f'Solar Angle Prediction with best KNN, Test set MSE: {mean_squared_error(y_sol_test, y_best_test):.3f}')"
   ]
  },
  {
   "cell_type": "markdown",
   "metadata": {},
   "source": [
    "# Conclusion "
   ]
  },
  {
   "cell_type": "markdown",
   "metadata": {},
   "source": [
    "Is KNN a good model for predicting what the solar zenith angle will be based on the latitude, month and true solar time(tst)?  The data was sourced from https://vincentarelbundock.github.io/Rdatasets/articles/data.html and contains 3 variables and 1 outcome variable.  The outcome variable is 'sza' and all others are inputs. \n",
    "\n",
    "A KNN model was fit and evaluated after splitting the data into train and test sets. There does seem to be overfitting as the MSE on the train set is 0.0, and the MSE on the train set is significantly lower than on the test set.  Therefore, some more optimizing of the model would have to be done, and there is not strong evidence that KNN is a good model for predicting what the solar zenith angle will be based on the latitude, month and true solar time(tst).  "
   ]
  },
  {
   "cell_type": "code",
   "execution_count": null,
   "metadata": {},
   "outputs": [],
   "source": []
  }
 ],
 "metadata": {
  "kernelspec": {
   "display_name": "Python 3",
   "language": "python",
   "name": "python3"
  },
  "language_info": {
   "codemirror_mode": {
    "name": "ipython",
    "version": 3
   },
   "file_extension": ".py",
   "mimetype": "text/x-python",
   "name": "python",
   "nbconvert_exporter": "python",
   "pygments_lexer": "ipython3",
   "version": "3.8.8"
  }
 },
 "nbformat": 4,
 "nbformat_minor": 4
}
